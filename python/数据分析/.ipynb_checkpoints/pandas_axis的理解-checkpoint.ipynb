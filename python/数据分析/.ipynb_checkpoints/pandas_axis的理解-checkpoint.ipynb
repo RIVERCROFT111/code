{
 "cells": [
  {
   "cell_type": "markdown",
   "metadata": {},
   "source": [
    "`轴`用来为超过一维的数组定义的属性，二维数据拥有两个轴：`第0轴`沿着行的`垂直往下`，`第1轴`沿着列的方向`水平延伸`。"
   ]
  },
  {
   "cell_type": "markdown",
   "metadata": {},
   "source": [
    "注意看，官方对于0和1的解释是轴，也就是`坐标轴`。而`坐标轴是有方向的`，所以千万不要用行和列的思维去想axis，因为`行和列`是`没有方向`的，这样想会在遇到不同的例子时感到困惑。"
   ]
  },
  {
   "cell_type": "markdown",
   "metadata": {},
   "source": [
    "所以其实axis的重点在于`方向`，而不是行和列。\n",
    "`axis=0 `代表的是`垂直向下`， `axis=1` 代表的是`水平向右`"
   ]
  }
 ],
 "metadata": {
  "kernelspec": {
   "display_name": "Python 3",
   "language": "python",
   "name": "python3"
  },
  "language_info": {
   "codemirror_mode": {
    "name": "ipython",
    "version": 3
   },
   "file_extension": ".py",
   "mimetype": "text/x-python",
   "name": "python",
   "nbconvert_exporter": "python",
   "pygments_lexer": "ipython3",
   "version": "3.7.0"
  }
 },
 "nbformat": 4,
 "nbformat_minor": 4
}
