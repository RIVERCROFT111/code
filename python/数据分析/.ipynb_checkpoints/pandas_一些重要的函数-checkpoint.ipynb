{
 "cells": [
  {
   "cell_type": "markdown",
   "metadata": {},
   "source": [
    "`map()`是`Series对象`的一个函数，DataFrame中没有map()，map()的功能是将一个自定义函数作用于`Series对象的每个元素`。\n",
    "\n",
    "`apply()`函数的功能是将一个自定义函数作用于`DataFrame的行或者列`\n",
    "\n",
    "`applymap()`函数的功能是将自定义函数作用于DataFrame的所有元素"
   ]
  },
  {
   "cell_type": "code",
   "execution_count": 4,
   "metadata": {},
   "outputs": [],
   "source": [
    "import pandas as pd\n",
    "import numpy as np"
   ]
  },
  {
   "cell_type": "code",
   "execution_count": 11,
   "metadata": {},
   "outputs": [
    {
     "ename": "SyntaxError",
     "evalue": "invalid character in identifier (<ipython-input-11-12fd186d784b>, line 2)",
     "output_type": "error",
     "traceback": [
      "\u001b[1;36m  File \u001b[1;32m\"<ipython-input-11-12fd186d784b>\"\u001b[1;36m, line \u001b[1;32m2\u001b[0m\n\u001b[1;33m    'key2':['one','two','three','four'],\u001b[0m\n\u001b[1;37m    ^\u001b[0m\n\u001b[1;31mSyntaxError\u001b[0m\u001b[1;31m:\u001b[0m invalid character in identifier\n"
     ]
    }
   ],
   "source": [
    "frame = pd.DataFrame({ 'key1':['a','b','c','d'],\n",
    "　　　　　　　　　　　　'key2':['one','two','three','four'],\n",
    "　　　　　　　　　　　　　　　'data1':np.arange(4),\n",
    "　　　　　　　　　　　　　　　'data2':np.arange(5,9)\n",
    "　　　　　　　　　　　　　 })"
   ]
  },
  {
   "cell_type": "code",
   "execution_count": null,
   "metadata": {},
   "outputs": [],
   "source": []
  }
 ],
 "metadata": {
  "kernelspec": {
   "display_name": "Python 3",
   "language": "python",
   "name": "python3"
  },
  "language_info": {
   "codemirror_mode": {
    "name": "ipython",
    "version": 3
   },
   "file_extension": ".py",
   "mimetype": "text/x-python",
   "name": "python",
   "nbconvert_exporter": "python",
   "pygments_lexer": "ipython3",
   "version": "3.7.0"
  }
 },
 "nbformat": 4,
 "nbformat_minor": 4
}
